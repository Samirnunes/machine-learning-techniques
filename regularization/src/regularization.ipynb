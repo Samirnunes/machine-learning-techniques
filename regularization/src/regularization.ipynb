{
 "cells": [
  {
   "cell_type": "markdown",
   "metadata": {},
   "source": [
    "## Regularization"
   ]
  },
  {
   "cell_type": "markdown",
   "metadata": {},
   "source": [
    "### Importing Libraries"
   ]
  },
  {
   "cell_type": "code",
   "execution_count": 1,
   "metadata": {
    "ExecuteTime": {
     "end_time": "2024-01-16T23:55:56.679522300Z",
     "start_time": "2024-01-16T23:55:54.405240400Z"
    }
   },
   "outputs": [],
   "source": [
    "from churn_modelling_utils import *\n",
    "from linear_regression_parameters import LinearRegressionParameters\n",
    "from linear_regressor_displayer import LinearRegressorDisplayer"
   ]
  },
  {
   "cell_type": "markdown",
   "metadata": {},
   "source": [
    "### Importing Data"
   ]
  },
  {
   "cell_type": "code",
   "execution_count": 2,
   "metadata": {
    "ExecuteTime": {
     "end_time": "2024-01-16T23:55:56.779107700Z",
     "start_time": "2024-01-16T23:55:56.684543500Z"
    }
   },
   "outputs": [],
   "source": [
    "X_train, X_test, y_train, y_test = preprocess(import_data())"
   ]
  },
  {
   "cell_type": "markdown",
   "metadata": {},
   "source": [
    "### Linear Regression with L2 Regularization"
   ]
  },
  {
   "cell_type": "code",
   "execution_count": 3,
   "metadata": {
    "ExecuteTime": {
     "end_time": "2024-01-16T23:55:59.639122300Z",
     "start_time": "2024-01-16T23:55:56.786476Z"
    }
   },
   "outputs": [
    {
     "data": {
      "application/vnd.jupyter.widget-view+json": {
       "model_id": "29017d2a697f4e7d9db05ffea88a73da",
       "version_major": 2,
       "version_minor": 0
      },
      "text/plain": [
       "IntSlider(value=0, description='Epoch', max=20)"
      ]
     },
     "metadata": {},
     "output_type": "display_data"
    },
    {
     "data": {
      "application/vnd.jupyter.widget-view+json": {
       "model_id": "781074232dd24c2c89b44a849fc9e89d",
       "version_major": 2,
       "version_minor": 0
      },
      "text/plain": [
       "Output()"
      ]
     },
     "metadata": {},
     "output_type": "display_data"
    }
   ],
   "source": [
    "l2_parameters = LinearRegressionParameters()\n",
    "l2_parameters.initial_weights = list(map(lambda x: float(x), range(1, len(X_train.columns) + 1)))\n",
    "l2_parameters.epochs = 20\n",
    "l2_parameters.lambda_reg = 0.01\n",
    "l2_parameters.gamma_reg = 0.0\n",
    "l2_parameters.batch_size = 40\n",
    "l2_parameters.random_state = 0\n",
    "l2_model = LinearRegressorDisplayer(l2_parameters)\n",
    "l2_model.fit_store(X_train, y_train, only_reg = False)\n",
    "l2_model.display_ws_history()"
   ]
  },
  {
   "cell_type": "markdown",
   "metadata": {},
   "source": [
    "### Linear Regression with L1 Regularization"
   ]
  },
  {
   "cell_type": "code",
   "execution_count": 4,
   "metadata": {
    "ExecuteTime": {
     "end_time": "2024-01-16T23:56:12.243103500Z",
     "start_time": "2024-01-16T23:55:59.637074600Z"
    }
   },
   "outputs": [
    {
     "data": {
      "application/vnd.jupyter.widget-view+json": {
       "model_id": "f0387740abc94b61993f44bc730a7b2b",
       "version_major": 2,
       "version_minor": 0
      },
      "text/plain": [
       "IntSlider(value=0, description='Epoch')"
      ]
     },
     "metadata": {},
     "output_type": "display_data"
    },
    {
     "data": {
      "application/vnd.jupyter.widget-view+json": {
       "model_id": "c972d6bc55274ec6ab9a71b230bf6b96",
       "version_major": 2,
       "version_minor": 0
      },
      "text/plain": [
       "Output()"
      ]
     },
     "metadata": {},
     "output_type": "display_data"
    }
   ],
   "source": [
    "l1_parameters = LinearRegressionParameters()\n",
    "l1_parameters.initial_weights = list(map(lambda x: float(x), range(1, len(X_train.columns) + 1)))\n",
    "l1_parameters.epochs = 100\n",
    "l1_parameters.gamma_reg = 0.01\n",
    "l1_parameters.lambda_reg = 0.0\n",
    "l1_parameters.batch_size = 40\n",
    "l1_parameters.random_state = 0\n",
    "l1_model = LinearRegressorDisplayer(l1_parameters)\n",
    "l1_model.fit_store(X_train, y_train, only_reg = False)\n",
    "l1_model.display_ws_history()"
   ]
  },
  {
   "cell_type": "markdown",
   "metadata": {},
   "source": [
    "### Only L2 Regularization"
   ]
  },
  {
   "cell_type": "code",
   "execution_count": 5,
   "metadata": {
    "ExecuteTime": {
     "end_time": "2024-01-16T23:56:12.731188900Z",
     "start_time": "2024-01-16T23:56:12.246095400Z"
    }
   },
   "outputs": [
    {
     "data": {
      "application/vnd.jupyter.widget-view+json": {
       "model_id": "f27fb6f977944829a3525e31b498813e",
       "version_major": 2,
       "version_minor": 0
      },
      "text/plain": [
       "IntSlider(value=0, description='Epoch', max=20)"
      ]
     },
     "metadata": {},
     "output_type": "display_data"
    },
    {
     "data": {
      "application/vnd.jupyter.widget-view+json": {
       "model_id": "9d24a2cd42a94a3d9735bb12d861f333",
       "version_major": 2,
       "version_minor": 0
      },
      "text/plain": [
       "Output()"
      ]
     },
     "metadata": {},
     "output_type": "display_data"
    }
   ],
   "source": [
    "l2_model_only_reg = LinearRegressorDisplayer(l2_parameters)\n",
    "l2_model_only_reg.fit_store(X_train, y_train, only_reg = True)\n",
    "l2_model_only_reg.display_ws_history()"
   ]
  },
  {
   "cell_type": "markdown",
   "metadata": {},
   "source": [
    "### Only L1 Regularization"
   ]
  },
  {
   "cell_type": "code",
   "execution_count": 6,
   "metadata": {
    "ExecuteTime": {
     "end_time": "2024-01-16T23:56:14.622361100Z",
     "start_time": "2024-01-16T23:56:12.730189500Z"
    }
   },
   "outputs": [
    {
     "data": {
      "application/vnd.jupyter.widget-view+json": {
       "model_id": "a3c668660fbe4a9391e0933da6fa1b55",
       "version_major": 2,
       "version_minor": 0
      },
      "text/plain": [
       "IntSlider(value=0, description='Epoch')"
      ]
     },
     "metadata": {},
     "output_type": "display_data"
    },
    {
     "data": {
      "application/vnd.jupyter.widget-view+json": {
       "model_id": "e80ceaa14789475b92db9a6c2f380956",
       "version_major": 2,
       "version_minor": 0
      },
      "text/plain": [
       "Output()"
      ]
     },
     "metadata": {},
     "output_type": "display_data"
    }
   ],
   "source": [
    "l1_model_only_reg = LinearRegressorDisplayer(l1_parameters)\n",
    "l1_model_only_reg.fit_store(X_train, y_train, only_reg = True)\n",
    "l1_model_only_reg.display_ws_history()"
   ]
  }
 ],
 "metadata": {
  "kernelspec": {
   "display_name": "Python 3 (ipykernel)",
   "language": "python",
   "name": "python3"
  },
  "language_info": {
   "codemirror_mode": {
    "name": "ipython",
    "version": 3
   },
   "file_extension": ".py",
   "mimetype": "text/x-python",
   "name": "python",
   "nbconvert_exporter": "python",
   "pygments_lexer": "ipython3",
   "version": "3.11.4"
  }
 },
 "nbformat": 4,
 "nbformat_minor": 4
}
